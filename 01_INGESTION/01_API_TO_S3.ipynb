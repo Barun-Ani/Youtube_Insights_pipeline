{
 "cells": [
  {
   "cell_type": "code",
   "execution_count": 0,
   "metadata": {
    "application/vnd.databricks.v1+cell": {
     "cellMetadata": {
      "byteLimit": 2048000,
      "rowLimit": 10000
     },
     "inputWidgets": {},
     "nuid": "595d9adf-43f3-4a08-830a-184013b8bbba",
     "showTitle": false,
     "tableResultSettingsMap": {},
     "title": ""
    }
   },
   "outputs": [],
   "source": [
    "%run ../00_CONFIG/env"
   ]
  },
  {
   "cell_type": "code",
   "execution_count": 0,
   "metadata": {
    "application/vnd.databricks.v1+cell": {
     "cellMetadata": {
      "byteLimit": 2048000,
      "rowLimit": 10000
     },
     "inputWidgets": {},
     "nuid": "46266cec-0dbe-4392-a3fd-95d9b6b5ced9",
     "showTitle": false,
     "tableResultSettingsMap": {},
     "title": ""
    }
   },
   "outputs": [],
   "source": [
    "import requests\n",
    "from pyspark.sql import SparkSession\n",
    "from pyspark.sql.types import StructType, StructField, StringType, IntegerType"
   ]
  },
  {
   "cell_type": "code",
   "execution_count": 0,
   "metadata": {
    "application/vnd.databricks.v1+cell": {
     "cellMetadata": {
      "byteLimit": 2048000,
      "rowLimit": 10000
     },
     "inputWidgets": {},
     "nuid": "92be6f33-f21f-451b-bf53-8821228bf92b",
     "showTitle": false,
     "tableResultSettingsMap": {},
     "title": ""
    }
   },
   "outputs": [],
   "source": [
    "API_KEY = env_api_key \n",
    "VIDEO_ID = env_video_id \n",
    "BASE_URL = env_base_url"
   ]
  },
  {
   "cell_type": "code",
   "execution_count": 0,
   "metadata": {
    "application/vnd.databricks.v1+cell": {
     "cellMetadata": {
      "byteLimit": 2048000,
      "rowLimit": 10000
     },
     "inputWidgets": {},
     "nuid": "29139607-586a-4a03-b8e6-9f7a5d66ec22",
     "showTitle": false,
     "tableResultSettingsMap": {},
     "title": ""
    }
   },
   "outputs": [],
   "source": [
    "def get_youtube_comments(VIDEO_ID, API_KEY, max_results=100):\n",
    "    comments = []\n",
    "    next_page_token = None\n",
    "\n",
    "    while True:\n",
    "        params = {\n",
    "            \"part\": \"snippet\",\n",
    "            \"videoId\": VIDEO_ID,\n",
    "            \"key\": API_KEY,\n",
    "            \"maxResults\": max_results,\n",
    "            \"textFormat\": \"plainText\",\n",
    "        }\n",
    "        if next_page_token:\n",
    "            params[\"pageToken\"] = next_page_token\n",
    "\n",
    "        response = requests.get(BASE_URL, params=params)\n",
    "        data = response.json()\n",
    "\n",
    "        if \"items\" in data:\n",
    "            for item in data[\"items\"]:\n",
    "                comment = item[\"snippet\"][\"topLevelComment\"][\"snippet\"][\"textDisplay\"]\n",
    "                author = item[\"snippet\"][\"topLevelComment\"][\"snippet\"][\"authorDisplayName\"]\n",
    "                published_at = item[\"snippet\"][\"topLevelComment\"][\"snippet\"][\"publishedAt\"]\n",
    "                like_count = item[\"snippet\"][\"topLevelComment\"][\"snippet\"][\"likeCount\"]\n",
    "                comments.append([author, comment, published_at, like_count])\n",
    "\n",
    "        next_page_token = data.get(\"nextPageToken\")\n",
    "        if not next_page_token:\n",
    "            break  # No more comments\n",
    "\n",
    "    return comments"
   ]
  },
  {
   "cell_type": "code",
   "execution_count": 0,
   "metadata": {
    "application/vnd.databricks.v1+cell": {
     "cellMetadata": {
      "byteLimit": 2048000,
      "rowLimit": 10000
     },
     "inputWidgets": {},
     "nuid": "08d9a8f3-9f62-45c7-97e6-4dac021b1738",
     "showTitle": false,
     "tableResultSettingsMap": {},
     "title": ""
    }
   },
   "outputs": [],
   "source": [
    "comments_data = get_youtube_comments(VIDEO_ID, API_KEY)\n",
    "schema = StructType([\n",
    "    StructField(\"Author\", StringType(), True),\n",
    "    StructField(\"Comment\", StringType(), True),\n",
    "    StructField(\"Published_At\", StringType(), True),\n",
    "    StructField(\"Likes\", IntegerType(), True),\n",
    "])\n",
    "\n",
    "df_comments_data = spark.createDataFrame(comments_data, schema=schema)\n",
    "df_comments_data.write.mode(\"overwrite\").option(\"header\", \"true\").csv('dbfs:/mnt/youtube_project/ingestion_layer/')\n"
   ]
  }
 ],
 "metadata": {
  "application/vnd.databricks.v1+notebook": {
   "computePreferences": null,
   "dashboards": [],
   "environmentMetadata": {
    "base_environment": "",
    "environment_version": "2"
   },
   "language": "python",
   "notebookMetadata": {
    "pythonIndentUnit": 4
   },
   "notebookName": "01_API_TO_S3",
   "widgets": {}
  },
  "language_info": {
   "name": "python"
  }
 },
 "nbformat": 4,
 "nbformat_minor": 0
}
